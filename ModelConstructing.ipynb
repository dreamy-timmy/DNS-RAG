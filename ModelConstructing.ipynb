{
 "cells": [
  {
   "cell_type": "code",
   "execution_count": 4,
   "metadata": {},
   "outputs": [],
   "source": [
    "import os\n",
    "\n",
    "with open('api_key.txt', 'r') as f:\n",
    "    key = f.read()\n",
    "\n",
    "os.environ['GIGACHAT_API_ACCESS_KEY'] = key"
   ]
  },
  {
   "cell_type": "code",
   "execution_count": 5,
   "metadata": {},
   "outputs": [
    {
     "name": "stderr",
     "output_type": "stream",
     "text": [
      "C:\\Users\\gunte\\AppData\\Local\\Temp\\ipykernel_10040\\1814353829.py:24: LangChainDeprecationWarning: The class `HuggingFaceEmbeddings` was deprecated in LangChain 0.2.2 and will be removed in 1.0. An updated version of the class exists in the :class:`~langchain-huggingface package and should be used instead. To use it run `pip install -U :class:`~langchain-huggingface` and import as `from :class:`~langchain_huggingface import HuggingFaceEmbeddings``.\n",
      "  embedding_function = SentenceTransformerEmbeddings(model_name=\"all-MiniLM-L6-v2\")\n",
      "C:\\Users\\gunte\\AppData\\Roaming\\Python\\Python312\\site-packages\\tqdm\\auto.py:21: TqdmWarning: IProgress not found. Please update jupyter and ipywidgets. See https://ipywidgets.readthedocs.io/en/stable/user_install.html\n",
      "  from .autonotebook import tqdm as notebook_tqdm\n"
     ]
    },
    {
     "data": {
      "text/plain": [
       "<langchain_community.vectorstores.chroma.Chroma at 0x2025e50f230>"
      ]
     },
     "execution_count": 5,
     "metadata": {},
     "output_type": "execute_result"
    }
   ],
   "source": [
    "from langchain.vectorstores import Chroma\n",
    "from langchain.embeddings.sentence_transformer import SentenceTransformerEmbeddings\n",
    "from langchain.text_splitter import CharacterTextSplitter \n",
    "from langchain.document_loaders import TextLoader\n",
    "from langchain.text_splitter import RecursiveCharacterTextSplitter\n",
    "\n",
    "file_paths = [\n",
    "    'docs/test.json',\n",
    "    'docs/raw_recomm_papers_1.txt',\n",
    "    'docs/raw_recomm_papers_2.txt',\n",
    "    'docs/raw_recomm_papers_3.txt'\n",
    "]\n",
    "\n",
    "# Load each file and store the results in a list\n",
    "documents = []\n",
    "for file_path in file_paths:\n",
    "    loader = TextLoader(file_path, encoding='utf-8')  # Specify the encoding\n",
    "    documents.extend(loader.load())\n",
    "\n",
    "\n",
    "text_splitter = RecursiveCharacterTextSplitter(chunk_size=500, chunk_overlap=100)\n",
    "docs = text_splitter.split_documents(documents)\n",
    "\n",
    "embedding_function = SentenceTransformerEmbeddings(model_name=\"all-MiniLM-L6-v2\")\n",
    "\n",
    "db = Chroma.from_documents(docs, embedding_function)\n",
    "db"
   ]
  },
  {
   "cell_type": "code",
   "execution_count": 6,
   "metadata": {},
   "outputs": [
    {
     "data": {
      "text/plain": [
       "[Document(metadata={'source': 'docs/raw_recomm_papers_2.txt'}, page_content='i5 8го поколения, сенсорный FullHD-экран, SSD на 256гб, батарея в состоянии \"муха не сидела\" и 8гб оперативки, которую я нарастил до 16гб.'),\n",
       " Document(metadata={'source': 'docs/test.json'}, page_content='\"раскладка_клавиатуры\": \"английская/русская\",\\n      \"цена\": \"20,000 ₽\"\\n    }\\n  ]'),\n",
       " Document(metadata={'source': 'docs/raw_recomm_papers_2.txt'}, page_content='Подобрать ноутбук можно и\\xa0за\\xa0меньшие деньги: бывают модели дешевле 25\\xa0000\\xa0₽, но\\xa0использовать их не\\xa0очень комфортно.«Глаза не\\xa0устают»: как я\\xa0выбирал ноутбук для\\xa0школьника до\\xa050\\xa0000\\xa0₽84826Разъемы, интерфейсы, важные мелочи. Ноутбук\\xa0— это устройство «все в\\xa0одном», поэтому при\\xa0покупке стоит учитывать множество деталей:Стандартные USB-А пригодятся для\\xa0флешек и\\xa0простой периферии вроде мышек, клавиатур и\\xa0принтеров.USB-C бывает разных типов, но\\xa0обычно используется для\\xa0зарядки, подключения продвинутых'),\n",
       " Document(metadata={'source': 'docs/raw_recomm_papers_1.txt'}, page_content='Велика вероятность что HDMI будет не способен выдать необходимую пропускную способность для раскрытия потенциала ноутбука, поэтому нужно смотреть DisplayPort.')]"
      ]
     },
     "execution_count": 6,
     "metadata": {},
     "output_type": "execute_result"
    }
   ],
   "source": [
    "retriever = db.as_retriever()\n",
    "retrieved_docs = retriever.invoke(\"Ноутбук для учёбы\")\n",
    "\n",
    "retrieved_docs"
   ]
  },
  {
   "cell_type": "code",
   "execution_count": 7,
   "metadata": {},
   "outputs": [],
   "source": [
    "from langchain.chains.combine_documents import create_stuff_documents_chain\n",
    "from langchain_core.prompts import ChatPromptTemplate\n",
    "from langchain.chat_models.gigachat import GigaChat\n",
    "from langchain.chains import create_retrieval_chain"
   ]
  },
  {
   "cell_type": "code",
   "execution_count": 8,
   "metadata": {},
   "outputs": [
    {
     "name": "stderr",
     "output_type": "stream",
     "text": [
      "C:\\Users\\gunte\\AppData\\Local\\Temp\\ipykernel_10040\\4017348131.py:1: LangChainDeprecationWarning: The class `GigaChat` was deprecated in LangChain 0.3.5 and will be removed in 1.0. An updated version of the class exists in the :class:`~langchain-gigachat package and should be used instead. To use it run `pip install -U :class:`~langchain-gigachat` and import as `from :class:`~langchain_gigachat import GigaChat``.\n",
      "  llm = GigaChat(\n"
     ]
    }
   ],
   "source": [
    "llm = GigaChat(\n",
    "    credentials=os.environ['GIGACHAT_API_ACCESS_KEY'],\n",
    "    model=\"GigaChat\",\n",
    "    verify_ssl_certs=False,\n",
    "    profanity_check=False,\n",
    ")\n",
    "\n",
    "prompt = ChatPromptTemplate.from_template(''' Ты - консультант в техническом интернет-магазине \\\n",
    "                                          Ответь на вопрос пользователя. \\\n",
    "Используй при этом информацию из контекста. Если в контексте нет \\\n",
    "информации для ответа, попроси пользователя уточнить необходимые детали.\n",
    "Контекст: {context}\n",
    "Вопрос: {input}\n",
    "Ответ:'''\n",
    ")\n"
   ]
  },
  {
   "cell_type": "code",
   "execution_count": 9,
   "metadata": {},
   "outputs": [],
   "source": [
    "document_chain = create_stuff_documents_chain(\n",
    "    llm=llm,\n",
    "    prompt=prompt,\n",
    ")"
   ]
  },
  {
   "cell_type": "code",
   "execution_count": 10,
   "metadata": {},
   "outputs": [],
   "source": [
    "retrieval_chain = create_retrieval_chain(retriever, document_chain)"
   ]
  },
  {
   "cell_type": "code",
   "execution_count": 11,
   "metadata": {},
   "outputs": [
    {
     "data": {
      "text/plain": [
       "{'input': 'Какой лучше ноутбук подойдёт для учёбы (школьник 9-го класса)?',\n",
       " 'context': [Document(metadata={'source': 'docs/raw_recomm_papers_2.txt'}, page_content='i5 8го поколения, сенсорный FullHD-экран, SSD на 256гб, батарея в состоянии \"муха не сидела\" и 8гб оперативки, которую я нарастил до 16гб.'),\n",
       "  Document(metadata={'source': 'docs/raw_recomm_papers_2.txt'}, page_content='Подобрать ноутбук можно и\\xa0за\\xa0меньшие деньги: бывают модели дешевле 25\\xa0000\\xa0₽, но\\xa0использовать их не\\xa0очень комфортно.«Глаза не\\xa0устают»: как я\\xa0выбирал ноутбук для\\xa0школьника до\\xa050\\xa0000\\xa0₽84826Разъемы, интерфейсы, важные мелочи. Ноутбук\\xa0— это устройство «все в\\xa0одном», поэтому при\\xa0покупке стоит учитывать множество деталей:Стандартные USB-А пригодятся для\\xa0флешек и\\xa0простой периферии вроде мышек, клавиатур и\\xa0принтеров.USB-C бывает разных типов, но\\xa0обычно используется для\\xa0зарядки, подключения продвинутых'),\n",
       "  Document(metadata={'source': 'docs/raw_recomm_papers_1.txt'}, page_content='Про 3 года — это слишком радикальный тезис. Да и не очень понятно, про что он: актуальность или формальную работу. Если ноут не работает дольше трех лет, то это плохой ноутбук, а не претензия к ноутам в целом.\\n\\nРемарки про бенчмарки и зарядки весьма полезные, спасибо. Тут мне стоило чуть корректнее описать, да.'),\n",
       "  Document(metadata={'source': 'docs/raw_recomm_papers_2.txt'}, page_content='работы они не\\xa0подойдут, а\\xa0написать код или обработать фотографии можно только на\\xa0ПК и\\xa0ноутбуках.Вот на\\xa0что обратить внимание перед покупкой.Железо. На\\xa0производительность любого компьютера и\\xa0ноутбука больше всего влияют видеокарта и\\xa0процессор. Видеокарта нужна для\\xa0создания 3D-графики, видеомонтажа и\\xa0картинки в\\xa0играх. Чем новее и\\xa0продвинутее видеокарта, тем\\xa0лучше графика в\\xa0играх и\\xa0быстрее обрабатываются видео.Процессор отвечает за\\xa0скорость и\\xa0стабильность работы в\\xa0целом: с\\xa0его помощью запускаются')],\n",
       " 'answer': 'Для учебы школьнику 9-го класса будет достаточно ноутбука с базовыми характеристиками. Учитывая ваши требования и предоставленный контекст, могу предложить несколько вариантов:\\n\\n1. **Модель начального уровня**: \\n   - Процессор: Intel Core i3 или AMD Ryzen 3.\\n   - Оперативная память: 8 ГБ DDR4.\\n   - Накопитель: SSD на 256 ГБ.\\n   - Экран: Full HD (1920x1080) с IPS матрицей для качественной цветопередачи.\\n   - Время автономной работы: не менее 4-5 часов.\\n   - Вес: около 1.5-2 кг.\\n   \\n   Такой ноутбук справится с большинством учебных задач, включая текстовые редакторы, браузеры, просмотр видео и даже легкие игры.\\n\\n2. **Универсальный вариант**:\\n   - Процессор: Intel Core i5 или аналогичный от AMD.\\n   - Оперативная память: 8-16 ГБ DDR4.\\n   - Накопитель: SSD на 256-512 ГБ.\\n   - Экран: Full HD (1920x1080) с IPS матрицей.\\n   - Время автономной работы: 5-7 часов.\\n   - Вес: около 1.5-2 кг.\\n\\n   Этот ноутбук уже позволит более эффективно работать с мультимедийными материалами, заниматься программированием или монтажом видео.\\n\\n3. **Для творческих задач и графических программ**:\\n   - Процессор: Intel Core i5 или выше, либо AMD Ryzen 5 и выше.\\n   - Оперативная память: 16 ГБ DDR4.\\n   - Накопитель: SSD на 512 ГБ или гибридный HDD + SSD.\\n   - Экран: Full HD (1920x1080) с IPS матрицей и поддержкой пера (если требуется).\\n   - Время автономной работы: 5-7 часов.\\n   - Вес: около 1.5-2 кг.\\n\\n   Это решение подойдет тем, кто планирует использовать ноутбук для рисования, черчения или других творческих задач, требующих высокой производительности.\\n\\nОбратите внимание, что если ваш бюджет позволяет, можно выбрать ноутбук с запасом мощности, чтобы он мог использоваться и в будущем для более сложных задач.'}"
      ]
     },
     "execution_count": 11,
     "metadata": {},
     "output_type": "execute_result"
    }
   ],
   "source": [
    "retrieval_chain.invoke({'input': \"Какой лучше ноутбук подойдёт для учёбы (школьник 9-го класса)?\"})"
   ]
  }
 ],
 "metadata": {
  "kernelspec": {
   "display_name": "Python 3",
   "language": "python",
   "name": "python3"
  },
  "language_info": {
   "codemirror_mode": {
    "name": "ipython",
    "version": 3
   },
   "file_extension": ".py",
   "mimetype": "text/x-python",
   "name": "python",
   "nbconvert_exporter": "python",
   "pygments_lexer": "ipython3",
   "version": "3.12.6"
  }
 },
 "nbformat": 4,
 "nbformat_minor": 2
}
